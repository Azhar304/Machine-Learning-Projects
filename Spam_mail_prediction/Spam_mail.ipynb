{
 "cells": [
  {
   "cell_type": "markdown",
   "metadata": {},
   "source": []
  },
  {
   "cell_type": "code",
   "execution_count": 12,
   "metadata": {},
   "outputs": [],
   "source": [
    "import numpy as np\n",
    "import pandas as pd\n",
    "from sklearn.linear_model import LogisticRegression\n",
    "from sklearn.model_selection import train_test_split\n",
    "from sklearn.metrics import accuracy_score\n",
    "from sklearn.feature_extraction.text import TfidfVectorizer"
   ]
  },
  {
   "cell_type": "code",
   "execution_count": 2,
   "metadata": {},
   "outputs": [],
   "source": [
    "data= pd.read_csv('mail_data.csv')\n"
   ]
  },
  {
   "cell_type": "code",
   "execution_count": 3,
   "metadata": {},
   "outputs": [
    {
     "data": {
      "text/html": [
       "<div>\n",
       "<style scoped>\n",
       "    .dataframe tbody tr th:only-of-type {\n",
       "        vertical-align: middle;\n",
       "    }\n",
       "\n",
       "    .dataframe tbody tr th {\n",
       "        vertical-align: top;\n",
       "    }\n",
       "\n",
       "    .dataframe thead th {\n",
       "        text-align: right;\n",
       "    }\n",
       "</style>\n",
       "<table border=\"1\" class=\"dataframe\">\n",
       "  <thead>\n",
       "    <tr style=\"text-align: right;\">\n",
       "      <th></th>\n",
       "      <th>Category</th>\n",
       "      <th>Message</th>\n",
       "    </tr>\n",
       "  </thead>\n",
       "  <tbody>\n",
       "    <tr>\n",
       "      <th>0</th>\n",
       "      <td>ham</td>\n",
       "      <td>Go until jurong point, crazy.. Available only ...</td>\n",
       "    </tr>\n",
       "    <tr>\n",
       "      <th>1</th>\n",
       "      <td>ham</td>\n",
       "      <td>Ok lar... Joking wif u oni...</td>\n",
       "    </tr>\n",
       "  </tbody>\n",
       "</table>\n",
       "</div>"
      ],
      "text/plain": [
       "  Category                                            Message\n",
       "0      ham  Go until jurong point, crazy.. Available only ...\n",
       "1      ham                      Ok lar... Joking wif u oni..."
      ]
     },
     "execution_count": 3,
     "metadata": {},
     "output_type": "execute_result"
    }
   ],
   "source": [
    "data.head(2)"
   ]
  },
  {
   "cell_type": "code",
   "execution_count": 24,
   "metadata": {},
   "outputs": [],
   "source": [
    "mail_data= data.where(pd.notnull(data),'')\n",
    "mail_data.loc[mail_data['Category']== 'spam', 'Category',] = 0\n",
    "data.loc[mail_data['Category']== 'ham', 'Category', ] = 1"
   ]
  },
  {
   "cell_type": "code",
   "execution_count": 25,
   "metadata": {},
   "outputs": [
    {
     "name": "stdout",
     "output_type": "stream",
     "text": [
      "0    Go until jurong point, crazy.. Available only ...\n",
      "1                        Ok lar... Joking wif u oni...\n",
      "Name: Message, dtype: object 5570    The guy did some bitching but I acted like i'd...\n",
      "5571                           Rofl. Its true to its name\n",
      "Name: Message, dtype: object\n",
      "0    1\n",
      "1    1\n",
      "Name: Category, dtype: object 5570    1\n",
      "5571    1\n",
      "Name: Category, dtype: object\n"
     ]
    }
   ],
   "source": [
    "X= mail_data['Message']\n",
    "Y= mail_data['Category']\n",
    "\n",
    "print(X.head(2), X.tail(2))\n",
    "print(Y.head(2), Y.tail(2))"
   ]
  },
  {
   "cell_type": "code",
   "execution_count": 26,
   "metadata": {},
   "outputs": [],
   "source": [
    "X_train , X_test, Y_train ,Y_test= train_test_split(X,Y, test_size=0.2, random_state=42)\n"
   ]
  },
  {
   "cell_type": "code",
   "execution_count": 27,
   "metadata": {},
   "outputs": [
    {
     "name": "stdout",
     "output_type": "stream",
     "text": [
      "(5572,) (4457,) (1115,)\n"
     ]
    }
   ],
   "source": [
    "print(X.shape, X_train.shape, X_test.shape)"
   ]
  },
  {
   "cell_type": "code",
   "execution_count": 48,
   "metadata": {},
   "outputs": [],
   "source": [
    "vectorized= TfidfVectorizer(min_df=1, stop_words='english', lowercase=True)\n",
    "X_train_vec=vectorized.fit_transform(X_train)\n",
    "X_test_vec=vectorized.transform(X_test)\n",
    "\n",
    "\n",
    "Y_train= Y_train.astype('int')\n",
    "Y_test= Y_test.astype('int')"
   ]
  },
  {
   "cell_type": "code",
   "execution_count": 49,
   "metadata": {},
   "outputs": [
    {
     "name": "stdout",
     "output_type": "stream",
     "text": [
      "<Compressed Sparse Row sparse matrix of dtype 'float64'\n",
      "\twith 34840 stored elements and shape (4457, 7440)>\n",
      "  Coords\tValues\n",
      "  (0, 5512)\t0.1898892037332199\n",
      "  (0, 7222)\t0.2173884735352799\n",
      "  (0, 258)\t0.2379428657041507\n",
      "  (0, 7162)\t0.2550284465664535\n",
      "  (0, 354)\t0.3544175987866074\n",
      "  (0, 2724)\t0.3544175987866074\n",
      "  (0, 7300)\t0.24288153842988894\n",
      "  (0, 2049)\t0.3034375179183143\n",
      "  (0, 3262)\t0.33791755486732394\n",
      "  (0, 5800)\t0.17558937755823417\n",
      "  (0, 6264)\t0.1898892037332199\n",
      "  (0, 694)\t0.3171299579602537\n",
      "  (0, 2497)\t0.2442158912653505\n",
      "  (0, 5818)\t0.22682143517864364\n",
      "  (1, 3267)\t0.26787130770292167\n",
      "  (1, 6109)\t0.32397626344658004\n",
      "  (1, 6738)\t0.28986069568917994\n",
      "  (1, 2335)\t0.21623212751660786\n",
      "  (1, 5650)\t0.3604441444703179\n",
      "  (1, 3333)\t0.20665394084233094\n",
      "  (1, 2440)\t0.3387054464839871\n",
      "  (1, 4509)\t0.40282459910606705\n",
      "  (1, 3932)\t0.24325511357721422\n",
      "  (1, 3804)\t0.19029023465152678\n",
      "  (1, 2555)\t0.3840709491751003\n",
      "  :\t:\n",
      "  (4452, 3084)\t0.22948428918295163\n",
      "  (4452, 3290)\t0.26370969643076225\n",
      "  (4452, 3978)\t0.4574160733416501\n",
      "  (4452, 7280)\t0.3968991650168732\n",
      "  (4452, 2438)\t0.4574160733416501\n",
      "  (4452, 7264)\t0.479751063610169\n",
      "  (4453, 6108)\t0.5975612693457145\n",
      "  (4453, 4004)\t0.5244851817485772\n",
      "  (4453, 3874)\t0.6064947019588055\n",
      "  (4454, 2893)\t0.38087861810984514\n",
      "  (4454, 3249)\t0.3182708584577292\n",
      "  (4454, 5409)\t0.4079234999314281\n",
      "  (4454, 5149)\t0.43410473161397095\n",
      "  (4454, 6114)\t0.4465347909835087\n",
      "  (4454, 6113)\t0.4465347909835087\n",
      "  (4455, 6686)\t0.40745931976870786\n",
      "  (4455, 4660)\t0.4924788339394118\n",
      "  (4455, 3691)\t0.5541750775894743\n",
      "  (4455, 5815)\t0.5332274226200294\n",
      "  (4456, 3720)\t0.24023610815826443\n",
      "  (4456, 2236)\t0.3138975170542533\n",
      "  (4456, 5719)\t0.32762879958318814\n",
      "  (4456, 6467)\t0.4816862839263015\n",
      "  (4456, 6078)\t0.4654515925066416\n",
      "  (4456, 4518)\t0.5364209818026567\n"
     ]
    }
   ],
   "source": [
    "print(X_train_vec)"
   ]
  },
  {
   "cell_type": "code",
   "execution_count": 30,
   "metadata": {},
   "outputs": [
    {
     "name": "stdout",
     "output_type": "stream",
     "text": [
      "0       1\n",
      "1       1\n",
      "2       0\n",
      "3       1\n",
      "4       1\n",
      "       ..\n",
      "5567    0\n",
      "5568    1\n",
      "5569    1\n",
      "5570    1\n",
      "5571    1\n",
      "Name: Category, Length: 5572, dtype: object\n"
     ]
    }
   ],
   "source": [
    "print(Y)"
   ]
  },
  {
   "cell_type": "code",
   "execution_count": 50,
   "metadata": {},
   "outputs": [],
   "source": [
    "model= LogisticRegression()\n",
    "model.fit(X_train_vec, Y_train)\n",
    "predict= model.predict(X_train_vec)"
   ]
  },
  {
   "cell_type": "code",
   "execution_count": 51,
   "metadata": {},
   "outputs": [
    {
     "name": "stdout",
     "output_type": "stream",
     "text": [
      "0.9670181736594121\n"
     ]
    }
   ],
   "source": [
    "train_accuracy= accuracy_score(predict,Y_train)\n",
    "print(train_accuracy)"
   ]
  },
  {
   "cell_type": "code",
   "execution_count": 52,
   "metadata": {},
   "outputs": [
    {
     "name": "stdout",
     "output_type": "stream",
     "text": [
      "0.9246636771300448\n"
     ]
    }
   ],
   "source": [
    "model.fit(X_test_vec, Y_test)\n",
    "test_predict= model.predict(X_test_vec)\n",
    "\n",
    "test_Accuracy= accuracy_score(test_predict, Y_test)\n",
    "print(test_Accuracy)"
   ]
  },
  {
   "cell_type": "code",
   "execution_count": 63,
   "metadata": {},
   "outputs": [
    {
     "name": "stdout",
     "output_type": "stream",
     "text": [
      "not a spam mail\n"
     ]
    }
   ],
   "source": [
    "input_data= [\"England v Macedonia - dont miss the goals/team news. Txt ur national team to 87077 eg ENGLAND to 87077 Try:WALES, SCOTLAND 4txt/ú1.20 POBOXox36504W45WQ 16+\"]\n",
    "converted= vectorized.transform(input_data)\n",
    "\n",
    "prediction= model.predict(converted)\n",
    "\n",
    "if prediction[0]== 0:\n",
    "    print('it is a spam mail')\n",
    "else:\n",
    "    print(\"not a spam mail\")"
   ]
  }
 ],
 "metadata": {
  "kernelspec": {
   "display_name": "Python 3",
   "language": "python",
   "name": "python3"
  },
  "language_info": {
   "codemirror_mode": {
    "name": "ipython",
    "version": 3
   },
   "file_extension": ".py",
   "mimetype": "text/x-python",
   "name": "python",
   "nbconvert_exporter": "python",
   "pygments_lexer": "ipython3",
   "version": "3.12.4"
  }
 },
 "nbformat": 4,
 "nbformat_minor": 2
}
